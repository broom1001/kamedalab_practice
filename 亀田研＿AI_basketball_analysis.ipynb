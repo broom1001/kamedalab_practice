{
  "nbformat": 4,
  "nbformat_minor": 0,
  "metadata": {
    "colab": {
      "provenance": [],
      "include_colab_link": true
    },
    "kernelspec": {
      "name": "python3",
      "display_name": "Python 3"
    },
    "accelerator": "GPU"
  },
  "cells": [
    {
      "cell_type": "markdown",
      "metadata": {
        "id": "view-in-github",
        "colab_type": "text"
      },
      "source": [
        "<a href=\"https://colab.research.google.com/github/broom1001/kamedalab/blob/main/%E4%BA%80%E7%94%B0%E7%A0%94%EF%BC%BFAI_basketball_analysis.ipynb\" target=\"_parent\"><img src=\"https://colab.research.google.com/assets/colab-badge.svg\" alt=\"Open In Colab\"/></a>"
      ]
    },
    {
      "cell_type": "code",
      "source": [
        "!git config --global user.email \"ryusei.ouchi@gmail.com\"\n",
        "!git config --global user.name \"broom1001\""
      ],
      "metadata": {
        "id": "gImaLZxtMTNd"
      },
      "execution_count": 1,
      "outputs": []
    },
    {
      "cell_type": "markdown",
      "metadata": {
        "id": "7pd8g8H84QgQ"
      },
      "source": [
        "# AI basketball analysis\n",
        "<img class=\"emoji\" alt=\"basketabll\" height=\"300\" width=\"700\" src=\"https://raw.githubusercontent.com/hardik0/AI-basketball-analysis-on-google-colab/master/static/img/analysis.gif\">\n",
        "\n",
        "<img class=\"emoji\" alt=\"basketabll\" height=\"20\" width=\"20\" src=\"https://github.githubassets.com/images/icons/emoji/unicode/1f3c0.png\"> **Analyze basketball shots and shooting pose with machine learning!**\n",
        "\n",
        "This is an artificial intelligence application built on the concept of object detection. Analyze basketball shots by digging into the data collected from object detection. We can get the result by simply uploading files to the web App, or submitting a POST request to the API.\n",
        "\n",
        "**Credits:**\n",
        "\n",
        "Special thanks to:\n",
        "\n",
        "**Tony Chou** for this amazing github repo **[AI-basketball-analysis](https://github.com/chonyy/AI-basketball-analysis)**\n",
        "\n",
        "**CMU Perceptual Computing Lab** for **[OpenPose](https://github.com/CMU-Perceptual-Computing-Lab/openpose)**"
      ]
    },
    {
      "cell_type": "code",
      "metadata": {
        "id": "KAfXDCLsfKYk"
      },
      "source": [
        "# First, change the runtime type to \"GPU\".  ユーザが主導でGPU利用へ切り替え\n",
        "# Confirm runtime to GPU  以下でGPU利用になっているか確認\n",
        "! nvcc --version\n",
        "! nvidia-smi"
      ],
      "execution_count": null,
      "outputs": []
    },
    {
      "cell_type": "code",
      "metadata": {
        "id": "EqoSRz7F3Tnh"
      },
      "source": [
        "# Openpose version tag  Openposeのバージョン確認\n",
        "#ver_openpose = \"v1.6.0\"  左の変数にバージョンを控える\n",
        "# If CMake is old, Openpose build fails, so download the latest version\n",
        "# CMakeが古いとOpenposeが作動しないためユーザが主導で新しいものをダウンロード、以下でバージョン確認\n",
        "! cmake --version"
      ],
      "execution_count": null,
      "outputs": []
    },
    {
      "cell_type": "code",
      "metadata": {
        "id": "0MlwNgTK3zqU"
      },
      "source": [
        "#Jun 18, 2020 - Rebuild the latest CMake at that time (about 15 minutes)\n",
        "# CMakeをダウンロード\n",
        "! wget -c \"https://github.com/Kitware/CMake/releases/download/v3.17.3/cmake-3.17.3.tar.gz\"\n",
        "# ダウンロードしたアーカイブを展開\n",
        "! tar xf cmake-3.17.3.tar.gz\n",
        "# 展開したディレクトリに移動してCMakeをビルド\n",
        "! cd cmake-3.17.3 && ./configure && make && sudo make install"
      ],
      "execution_count": null,
      "outputs": []
    },
    {
      "cell_type": "markdown",
      "metadata": {
        "id": "Pf49WuDq6BNu"
      },
      "source": [
        "# Pose Detection with OpenPose\n",
        "\n",
        "This notebook uses an open source project [CMU-Perceptual-Computing-Lab/openpose](https://github.com/CMU-Perceptual-Computing-Lab/openpose.git) to detect/track multi person poses on a given youtube video."
      ]
    },
    {
      "cell_type": "markdown",
      "metadata": {
        "id": "6XsfLDkm6V3l"
      },
      "source": [
        "## Install OpenPose\n"
      ]
    },
    {
      "cell_type": "code",
      "metadata": {
        "id": "QLAoMXYm3_Gy",
        "colab": {
          "base_uri": "https://localhost:8080/"
        },
        "outputId": "d48039d0-fceb-4d98-9ecb-003d79dc823f"
      },
      "source": [
        "# Install library\n",
        "\n",
        "# Basic   基本的な開発ツール(コンパイラやビルドツール)\n",
        "! sudo apt-get --assume-yes update\n",
        "! sudo apt-get --assume-yes install build-essential\n",
        "# OpenCV    OpenCVの開発用ヘッダーとライブラリ<-OpenposeにOpenCVが必要\n",
        "! sudo apt-get --assume-yes install libopencv-dev\n",
        "# General dependencies    機械学習やデータベース操作に必要なライブラリ(1行目Protocol Buffers、２行目Boost C＋＋の完全インストール)\n",
        "! sudo apt-get --assume-yes install libatlas-base-dev libprotobuf-dev libleveldb-dev libsnappy-dev libhdf5-serial-dev protobuf-compiler\n",
        "! sudo apt-get --assume-yes install --no-install-recommends libboost-all-dev\n",
        "# Remaining dependencies, 14.04   Googleのログライブラリやフラグパーサー、LMDBなどをインストール\n",
        "! sudo apt-get --assume-yes install libgflags-dev libgoogle-glog-dev liblmdb-dev\n",
        "# Python3 libs    Python3のセットアップツールや開発ツールをインスト０ルし、必要なPythonライブラリ(numpy, protobuf, opencv-python)\n",
        "! sudo apt-get --assume-yes install python3-setuptools python3-dev build-essential\n",
        "! sudo apt-get --assume-yes install python3-pip\n",
        "! sudo -H pip3 install --upgrade numpy protobuf opencv-python\n",
        "# OpenCL Generic    OpenCLのヘッダーファイルや開発用ライブラリ、ViennaCLをインストール\n",
        "! sudo apt-get --assume-yes install opencl-headers ocl-icd-opencl-dev\n",
        "! sudo apt-get --assume-yes install libviennacl-dev"
      ],
      "execution_count": null,
      "outputs": [
        {
          "output_type": "stream",
          "name": "stdout",
          "text": [
            "\r0% [Working]\r            \rGet:1 https://cloud.r-project.org/bin/linux/ubuntu jammy-cran40/ InRelease [3,626 B]\n",
            "Get:2 https://developer.download.nvidia.com/compute/cuda/repos/ubuntu2204/x86_64  InRelease [1,581 B]\n",
            "Get:3 https://developer.download.nvidia.com/compute/cuda/repos/ubuntu2204/x86_64  Packages [872 kB]\n",
            "Hit:4 http://archive.ubuntu.com/ubuntu jammy InRelease\n",
            "Get:5 http://security.ubuntu.com/ubuntu jammy-security InRelease [110 kB]\n",
            "Get:6 http://archive.ubuntu.com/ubuntu jammy-updates InRelease [119 kB]\n",
            "Hit:7 https://ppa.launchpadcontent.net/c2d4u.team/c2d4u4.0+/ubuntu jammy InRelease\n",
            "Hit:8 https://ppa.launchpadcontent.net/deadsnakes/ppa/ubuntu jammy InRelease\n",
            "Get:9 http://security.ubuntu.com/ubuntu jammy-security/restricted amd64 Packages [2,395 kB]\n",
            "Hit:10 https://ppa.launchpadcontent.net/graphics-drivers/ppa/ubuntu jammy InRelease\n",
            "Hit:11 http://archive.ubuntu.com/ubuntu jammy-backports InRelease\n",
            "Hit:12 https://ppa.launchpadcontent.net/ubuntugis/ppa/ubuntu jammy InRelease\n",
            "Get:13 http://archive.ubuntu.com/ubuntu jammy-updates/main amd64 Packages [2,125 kB]\n",
            "Get:14 http://security.ubuntu.com/ubuntu jammy-security/universe amd64 Packages [1,083 kB]\n",
            "Get:15 http://security.ubuntu.com/ubuntu jammy-security/main amd64 Packages [1,853 kB]\n",
            "Get:16 http://archive.ubuntu.com/ubuntu jammy-updates/universe amd64 Packages [1,375 kB]\n",
            "Get:17 http://archive.ubuntu.com/ubuntu jammy-updates/restricted amd64 Packages [2,468 kB]\n",
            "Fetched 12.4 MB in 4s (3,220 kB/s)\n",
            "Reading package lists... Done\n",
            "Reading package lists... Done\n",
            "Building dependency tree... Done\n",
            "Reading state information... Done\n",
            "build-essential is already the newest version (12.9ubuntu3).\n",
            "0 upgraded, 0 newly installed, 0 to remove and 46 not upgraded.\n",
            "Reading package lists... Done\n",
            "Building dependency tree... Done\n",
            "Reading state information... Done\n",
            "libopencv-dev is already the newest version (4.5.4+dfsg-9ubuntu4+jammy0).\n",
            "0 upgraded, 0 newly installed, 0 to remove and 46 not upgraded.\n",
            "Reading package lists... Done\n",
            "Building dependency tree... Done\n",
            "Reading state information... Done\n",
            "Note, selecting 'libhdf5-dev' instead of 'libhdf5-serial-dev'\n",
            "libatlas-base-dev is already the newest version (3.10.3-12ubuntu1).\n",
            "libhdf5-dev is already the newest version (1.10.7+repack-4ubuntu2).\n",
            "protobuf-compiler is already the newest version (3.12.4-1ubuntu7.22.04.1).\n",
            "The following additional packages will be installed:\n",
            "  libleveldb1d libprotobuf-lite23\n",
            "Suggested packages:\n",
            "  leveldb-doc\n",
            "The following NEW packages will be installed:\n",
            "  libleveldb-dev libleveldb1d libprotobuf-dev libprotobuf-lite23 libsnappy-dev\n",
            "0 upgraded, 5 newly installed, 0 to remove and 46 not upgraded.\n",
            "Need to get 1,892 kB of archives.\n",
            "After this operation, 13.6 MB of additional disk space will be used.\n",
            "Get:1 http://archive.ubuntu.com/ubuntu jammy/universe amd64 libleveldb1d amd64 1.23-3build1 [123 kB]\n",
            "Get:2 http://archive.ubuntu.com/ubuntu jammy/universe amd64 libleveldb-dev amd64 1.23-3build1 [183 kB]\n",
            "Get:3 http://archive.ubuntu.com/ubuntu jammy-updates/main amd64 libprotobuf-lite23 amd64 3.12.4-1ubuntu7.22.04.1 [209 kB]\n",
            "Get:4 http://archive.ubuntu.com/ubuntu jammy-updates/main amd64 libprotobuf-dev amd64 3.12.4-1ubuntu7.22.04.1 [1,347 kB]\n",
            "Get:5 http://archive.ubuntu.com/ubuntu jammy/main amd64 libsnappy-dev amd64 1.1.8-1build3 [30.2 kB]\n",
            "Fetched 1,892 kB in 3s (653 kB/s)\n",
            "debconf: unable to initialize frontend: Dialog\n",
            "debconf: (No usable dialog-like program is installed, so the dialog based frontend cannot be used. at /usr/share/perl5/Debconf/FrontEnd/Dialog.pm line 78, <> line 5.)\n",
            "debconf: falling back to frontend: Readline\n",
            "debconf: unable to initialize frontend: Readline\n",
            "debconf: (This frontend requires a controlling tty.)\n",
            "debconf: falling back to frontend: Teletype\n",
            "dpkg-preconfigure: unable to re-open stdin: \n",
            "Selecting previously unselected package libleveldb1d:amd64.\n",
            "(Reading database ... 121918 files and directories currently installed.)\n",
            "Preparing to unpack .../libleveldb1d_1.23-3build1_amd64.deb ...\n",
            "Unpacking libleveldb1d:amd64 (1.23-3build1) ...\n",
            "Selecting previously unselected package libleveldb-dev:amd64.\n",
            "Preparing to unpack .../libleveldb-dev_1.23-3build1_amd64.deb ...\n",
            "Unpacking libleveldb-dev:amd64 (1.23-3build1) ...\n",
            "Selecting previously unselected package libprotobuf-lite23:amd64.\n",
            "Preparing to unpack .../libprotobuf-lite23_3.12.4-1ubuntu7.22.04.1_amd64.deb ...\n",
            "Unpacking libprotobuf-lite23:amd64 (3.12.4-1ubuntu7.22.04.1) ...\n",
            "Selecting previously unselected package libprotobuf-dev:amd64.\n",
            "Preparing to unpack .../libprotobuf-dev_3.12.4-1ubuntu7.22.04.1_amd64.deb ...\n",
            "Unpacking libprotobuf-dev:amd64 (3.12.4-1ubuntu7.22.04.1) ...\n",
            "Selecting previously unselected package libsnappy-dev:amd64.\n",
            "Preparing to unpack .../libsnappy-dev_1.1.8-1build3_amd64.deb ...\n",
            "Unpacking libsnappy-dev:amd64 (1.1.8-1build3) ...\n",
            "Setting up libleveldb1d:amd64 (1.23-3build1) ...\n",
            "Setting up libleveldb-dev:amd64 (1.23-3build1) ...\n",
            "Setting up libsnappy-dev:amd64 (1.1.8-1build3) ...\n",
            "Setting up libprotobuf-lite23:amd64 (3.12.4-1ubuntu7.22.04.1) ...\n",
            "Setting up libprotobuf-dev:amd64 (3.12.4-1ubuntu7.22.04.1) ...\n",
            "Processing triggers for libc-bin (2.35-0ubuntu3.4) ...\n",
            "/sbin/ldconfig.real: /usr/local/lib/libtbb.so.12 is not a symbolic link\n",
            "\n",
            "/sbin/ldconfig.real: /usr/local/lib/libtbbbind_2_0.so.3 is not a symbolic link\n",
            "\n",
            "/sbin/ldconfig.real: /usr/local/lib/libtbbmalloc_proxy.so.2 is not a symbolic link\n",
            "\n",
            "/sbin/ldconfig.real: /usr/local/lib/libtbbbind.so.3 is not a symbolic link\n",
            "\n",
            "/sbin/ldconfig.real: /usr/local/lib/libtbbmalloc.so.2 is not a symbolic link\n",
            "\n",
            "/sbin/ldconfig.real: /usr/local/lib/libtbbbind_2_5.so.3 is not a symbolic link\n",
            "\n",
            "Reading package lists... Done\n",
            "Building dependency tree... Done\n",
            "Reading state information... Done\n",
            "libboost-all-dev is already the newest version (1.74.0.3ubuntu7).\n",
            "0 upgraded, 0 newly installed, 0 to remove and 46 not upgraded.\n",
            "Reading package lists... Done\n",
            "Building dependency tree... Done\n",
            "Reading state information... Done\n",
            "The following additional packages will be installed:\n",
            "  libgflags2.2 libgoogle-glog0v5 liblmdb0 libunwind-dev lmdb-doc\n",
            "The following NEW packages will be installed:\n",
            "  libgflags-dev libgflags2.2 libgoogle-glog-dev libgoogle-glog0v5 liblmdb-dev\n",
            "  liblmdb0 libunwind-dev lmdb-doc\n",
            "0 upgraded, 8 newly installed, 0 to remove and 46 not upgraded.\n",
            "Need to get 2,594 kB of archives.\n",
            "After this operation, 10.4 MB of additional disk space will be used.\n",
            "Get:1 http://archive.ubuntu.com/ubuntu jammy/main amd64 liblmdb0 amd64 0.9.24-1build2 [47.6 kB]\n",
            "Get:2 http://archive.ubuntu.com/ubuntu jammy/universe amd64 libgflags2.2 amd64 2.2.2-2 [78.1 kB]\n",
            "Get:3 http://archive.ubuntu.com/ubuntu jammy/universe amd64 libgflags-dev amd64 2.2.2-2 [93.7 kB]\n",
            "Get:4 http://archive.ubuntu.com/ubuntu jammy/universe amd64 libgoogle-glog0v5 amd64 0.5.0+really0.4.0-2 [60.3 kB]\n",
            "Get:5 http://archive.ubuntu.com/ubuntu jammy-updates/main amd64 libunwind-dev amd64 1.3.2-2build2.1 [1,883 kB]\n",
            "Get:6 http://archive.ubuntu.com/ubuntu jammy/universe amd64 libgoogle-glog-dev amd64 0.5.0+really0.4.0-2 [91.9 kB]\n",
            "Get:7 http://archive.ubuntu.com/ubuntu jammy/main amd64 liblmdb-dev amd64 0.9.24-1build2 [63.7 kB]\n",
            "Get:8 http://archive.ubuntu.com/ubuntu jammy/main amd64 lmdb-doc all 0.9.24-1build2 [276 kB]\n",
            "Fetched 2,594 kB in 3s (1,004 kB/s)\n",
            "debconf: unable to initialize frontend: Dialog\n",
            "debconf: (No usable dialog-like program is installed, so the dialog based frontend cannot be used. at /usr/share/perl5/Debconf/FrontEnd/Dialog.pm line 78, <> line 8.)\n",
            "debconf: falling back to frontend: Readline\n",
            "debconf: unable to initialize frontend: Readline\n",
            "debconf: (This frontend requires a controlling tty.)\n",
            "debconf: falling back to frontend: Teletype\n",
            "dpkg-preconfigure: unable to re-open stdin: \n",
            "Selecting previously unselected package liblmdb0:amd64.\n",
            "(Reading database ... 122084 files and directories currently installed.)\n",
            "Preparing to unpack .../0-liblmdb0_0.9.24-1build2_amd64.deb ...\n",
            "Unpacking liblmdb0:amd64 (0.9.24-1build2) ...\n",
            "Selecting previously unselected package libgflags2.2.\n",
            "Preparing to unpack .../1-libgflags2.2_2.2.2-2_amd64.deb ...\n",
            "Unpacking libgflags2.2 (2.2.2-2) ...\n",
            "Selecting previously unselected package libgflags-dev.\n",
            "Preparing to unpack .../2-libgflags-dev_2.2.2-2_amd64.deb ...\n",
            "Unpacking libgflags-dev (2.2.2-2) ...\n",
            "Selecting previously unselected package libgoogle-glog0v5.\n",
            "Preparing to unpack .../3-libgoogle-glog0v5_0.5.0+really0.4.0-2_amd64.deb ...\n",
            "Unpacking libgoogle-glog0v5 (0.5.0+really0.4.0-2) ...\n",
            "Selecting previously unselected package libunwind-dev:amd64.\n",
            "Preparing to unpack .../4-libunwind-dev_1.3.2-2build2.1_amd64.deb ...\n",
            "Unpacking libunwind-dev:amd64 (1.3.2-2build2.1) ...\n",
            "Selecting previously unselected package libgoogle-glog-dev.\n",
            "Preparing to unpack .../5-libgoogle-glog-dev_0.5.0+really0.4.0-2_amd64.deb ...\n",
            "Unpacking libgoogle-glog-dev (0.5.0+really0.4.0-2) ...\n",
            "Selecting previously unselected package liblmdb-dev:amd64.\n",
            "Preparing to unpack .../6-liblmdb-dev_0.9.24-1build2_amd64.deb ...\n",
            "Unpacking liblmdb-dev:amd64 (0.9.24-1build2) ...\n",
            "Selecting previously unselected package lmdb-doc.\n",
            "Preparing to unpack .../7-lmdb-doc_0.9.24-1build2_all.deb ...\n",
            "Unpacking lmdb-doc (0.9.24-1build2) ...\n",
            "Setting up liblmdb0:amd64 (0.9.24-1build2) ...\n",
            "Setting up libunwind-dev:amd64 (1.3.2-2build2.1) ...\n",
            "Setting up lmdb-doc (0.9.24-1build2) ...\n",
            "Setting up liblmdb-dev:amd64 (0.9.24-1build2) ...\n",
            "Setting up libgflags2.2 (2.2.2-2) ...\n",
            "Setting up libgflags-dev (2.2.2-2) ...\n",
            "Setting up libgoogle-glog0v5 (0.5.0+really0.4.0-2) ...\n",
            "Setting up libgoogle-glog-dev (0.5.0+really0.4.0-2) ...\n",
            "Processing triggers for man-db (2.10.2-1) ...\n",
            "Processing triggers for libc-bin (2.35-0ubuntu3.4) ...\n",
            "/sbin/ldconfig.real: /usr/local/lib/libtbb.so.12 is not a symbolic link\n",
            "\n",
            "/sbin/ldconfig.real: /usr/local/lib/libtbbbind_2_0.so.3 is not a symbolic link\n",
            "\n",
            "/sbin/ldconfig.real: /usr/local/lib/libtbbmalloc_proxy.so.2 is not a symbolic link\n",
            "\n",
            "/sbin/ldconfig.real: /usr/local/lib/libtbbbind.so.3 is not a symbolic link\n",
            "\n",
            "/sbin/ldconfig.real: /usr/local/lib/libtbbmalloc.so.2 is not a symbolic link\n",
            "\n",
            "/sbin/ldconfig.real: /usr/local/lib/libtbbbind_2_5.so.3 is not a symbolic link\n",
            "\n",
            "Reading package lists... Done\n",
            "Building dependency tree... Done\n",
            "Reading state information... Done\n",
            "build-essential is already the newest version (12.9ubuntu3).\n",
            "python3-dev is already the newest version (3.10.6-1~22.04).\n",
            "python3-dev set to manually installed.\n",
            "Suggested packages:\n",
            "  python-setuptools-doc\n",
            "The following NEW packages will be installed:\n",
            "  python3-setuptools\n",
            "0 upgraded, 1 newly installed, 0 to remove and 46 not upgraded.\n",
            "Need to get 339 kB of archives.\n",
            "After this operation, 1,789 kB of additional disk space will be used.\n",
            "Get:1 http://archive.ubuntu.com/ubuntu jammy-updates/main amd64 python3-setuptools all 59.6.0-1.2ubuntu0.22.04.1 [339 kB]\n",
            "Fetched 339 kB in 2s (197 kB/s)\n",
            "debconf: unable to initialize frontend: Dialog\n",
            "debconf: (No usable dialog-like program is installed, so the dialog based frontend cannot be used. at /usr/share/perl5/Debconf/FrontEnd/Dialog.pm line 78, <> line 1.)\n",
            "debconf: falling back to frontend: Readline\n",
            "debconf: unable to initialize frontend: Readline\n",
            "debconf: (This frontend requires a controlling tty.)\n",
            "debconf: falling back to frontend: Teletype\n",
            "dpkg-preconfigure: unable to re-open stdin: \n",
            "Selecting previously unselected package python3-setuptools.\n",
            "(Reading database ... 122416 files and directories currently installed.)\n",
            "Preparing to unpack .../python3-setuptools_59.6.0-1.2ubuntu0.22.04.1_all.deb ...\n",
            "Unpacking python3-setuptools (59.6.0-1.2ubuntu0.22.04.1) ...\n",
            "Setting up python3-setuptools (59.6.0-1.2ubuntu0.22.04.1) ...\n",
            "Reading package lists... Done\n",
            "Building dependency tree... Done\n",
            "Reading state information... Done\n",
            "The following additional packages will be installed:\n",
            "  python3-wheel\n",
            "The following NEW packages will be installed:\n",
            "  python3-pip python3-wheel\n",
            "0 upgraded, 2 newly installed, 0 to remove and 46 not upgraded.\n",
            "Need to get 1,337 kB of archives.\n",
            "After this operation, 7,178 kB of additional disk space will be used.\n",
            "Get:1 http://archive.ubuntu.com/ubuntu jammy-updates/universe amd64 python3-wheel all 0.37.1-2ubuntu0.22.04.1 [32.0 kB]\n",
            "Get:2 http://archive.ubuntu.com/ubuntu jammy-updates/universe amd64 python3-pip all 22.0.2+dfsg-1ubuntu0.4 [1,305 kB]\n",
            "Fetched 1,337 kB in 3s (532 kB/s)\n",
            "debconf: unable to initialize frontend: Dialog\n",
            "debconf: (No usable dialog-like program is installed, so the dialog based frontend cannot be used. at /usr/share/perl5/Debconf/FrontEnd/Dialog.pm line 78, <> line 2.)\n",
            "debconf: falling back to frontend: Readline\n",
            "debconf: unable to initialize frontend: Readline\n",
            "debconf: (This frontend requires a controlling tty.)\n",
            "debconf: falling back to frontend: Teletype\n",
            "dpkg-preconfigure: unable to re-open stdin: \n",
            "Selecting previously unselected package python3-wheel.\n",
            "(Reading database ... 122564 files and directories currently installed.)\n",
            "Preparing to unpack .../python3-wheel_0.37.1-2ubuntu0.22.04.1_all.deb ...\n",
            "Unpacking python3-wheel (0.37.1-2ubuntu0.22.04.1) ...\n",
            "Selecting previously unselected package python3-pip.\n",
            "Preparing to unpack .../python3-pip_22.0.2+dfsg-1ubuntu0.4_all.deb ...\n",
            "Unpacking python3-pip (22.0.2+dfsg-1ubuntu0.4) ...\n",
            "Setting up python3-wheel (0.37.1-2ubuntu0.22.04.1) ...\n",
            "Setting up python3-pip (22.0.2+dfsg-1ubuntu0.4) ...\n",
            "Processing triggers for man-db (2.10.2-1) ...\n",
            "Requirement already satisfied: numpy in /usr/local/lib/python3.10/dist-packages (1.25.2)\n",
            "Collecting numpy\n",
            "  Downloading numpy-1.26.4-cp310-cp310-manylinux_2_17_x86_64.manylinux2014_x86_64.whl (18.2 MB)\n",
            "\u001b[2K     \u001b[90m━━━━━━━━━━━━━━━━━━━━━━━━━━━━━━━━━━━━━━━━\u001b[0m \u001b[32m18.2/18.2 MB\u001b[0m \u001b[31m55.4 MB/s\u001b[0m eta \u001b[36m0:00:00\u001b[0m\n",
            "\u001b[?25hRequirement already satisfied: protobuf in /usr/local/lib/python3.10/dist-packages (3.20.3)\n",
            "Collecting protobuf\n",
            "  Downloading protobuf-5.26.1-cp37-abi3-manylinux2014_x86_64.whl (302 kB)\n",
            "\u001b[2K     \u001b[90m━━━━━━━━━━━━━━━━━━━━━━━━━━━━━━━━━━━━━━\u001b[0m \u001b[32m302.8/302.8 kB\u001b[0m \u001b[31m36.1 MB/s\u001b[0m eta \u001b[36m0:00:00\u001b[0m\n",
            "\u001b[?25hRequirement already satisfied: opencv-python in /usr/local/lib/python3.10/dist-packages (4.8.0.76)\n",
            "Collecting opencv-python\n",
            "  Downloading opencv_python-4.9.0.80-cp37-abi3-manylinux_2_17_x86_64.manylinux2014_x86_64.whl (62.2 MB)\n",
            "\u001b[2K     \u001b[90m━━━━━━━━━━━━━━━━━━━━━━━━━━━━━━━━━━━━━━━━\u001b[0m \u001b[32m62.2/62.2 MB\u001b[0m \u001b[31m10.0 MB/s\u001b[0m eta \u001b[36m0:00:00\u001b[0m\n",
            "\u001b[?25hInstalling collected packages: protobuf, numpy, opencv-python\n",
            "  Attempting uninstall: protobuf\n",
            "    Found existing installation: protobuf 3.20.3\n",
            "    Uninstalling protobuf-3.20.3:\n",
            "      Successfully uninstalled protobuf-3.20.3\n",
            "  Attempting uninstall: numpy\n",
            "    Found existing installation: numpy 1.25.2\n",
            "    Uninstalling numpy-1.25.2:\n",
            "      Successfully uninstalled numpy-1.25.2\n",
            "  Attempting uninstall: opencv-python\n",
            "    Found existing installation: opencv-python 4.8.0.76\n",
            "    Uninstalling opencv-python-4.8.0.76:\n",
            "      Successfully uninstalled opencv-python-4.8.0.76\n",
            "\u001b[31mERROR: pip's dependency resolver does not currently take into account all the packages that are installed. This behaviour is the source of the following dependency conflicts.\n",
            "cudf-cu12 24.4.1 requires protobuf<5,>=3.20, but you have protobuf 5.26.1 which is incompatible.\n",
            "google-ai-generativelanguage 0.6.4 requires protobuf!=3.20.0,!=3.20.1,!=4.21.0,!=4.21.1,!=4.21.2,!=4.21.3,!=4.21.4,!=4.21.5,<5.0.0dev,>=3.19.5, but you have protobuf 5.26.1 which is incompatible.\n",
            "google-api-core 2.11.1 requires protobuf!=3.20.0,!=3.20.1,!=4.21.0,!=4.21.1,!=4.21.2,!=4.21.3,!=4.21.4,!=4.21.5,<5.0.0.dev0,>=3.19.5, but you have protobuf 5.26.1 which is incompatible.\n",
            "google-cloud-aiplatform 1.51.0 requires protobuf!=3.20.0,!=3.20.1,!=4.21.0,!=4.21.1,!=4.21.2,!=4.21.3,!=4.21.4,!=4.21.5,<5.0.0dev,>=3.19.5, but you have protobuf 5.26.1 which is incompatible.\n",
            "google-cloud-bigquery-connection 1.12.1 requires protobuf!=3.20.0,!=3.20.1,!=4.21.0,!=4.21.1,!=4.21.2,!=4.21.3,!=4.21.4,!=4.21.5,<5.0.0dev,>=3.19.5, but you have protobuf 5.26.1 which is incompatible.\n",
            "google-cloud-bigquery-storage 2.25.0 requires protobuf!=3.20.0,!=3.20.1,!=4.21.0,!=4.21.1,!=4.21.2,!=4.21.3,!=4.21.4,!=4.21.5,<5.0.0dev,>=3.19.5, but you have protobuf 5.26.1 which is incompatible.\n",
            "google-cloud-datastore 2.15.2 requires protobuf!=3.20.0,!=3.20.1,!=4.21.0,!=4.21.1,!=4.21.2,!=4.21.3,!=4.21.4,!=4.21.5,<5.0.0dev,>=3.19.5, but you have protobuf 5.26.1 which is incompatible.\n",
            "google-cloud-firestore 2.11.1 requires protobuf!=3.20.0,!=3.20.1,!=4.21.0,!=4.21.1,!=4.21.2,!=4.21.3,!=4.21.4,!=4.21.5,<5.0.0dev,>=3.19.5, but you have protobuf 5.26.1 which is incompatible.\n",
            "google-cloud-functions 1.13.3 requires protobuf!=3.20.0,!=3.20.1,!=4.21.0,!=4.21.1,!=4.21.2,!=4.21.3,!=4.21.4,!=4.21.5,<5.0.0dev,>=3.19.5, but you have protobuf 5.26.1 which is incompatible.\n",
            "google-cloud-iam 2.15.0 requires protobuf!=3.20.0,!=3.20.1,!=4.21.0,!=4.21.1,!=4.21.2,!=4.21.3,!=4.21.4,!=4.21.5,<5.0.0dev,>=3.19.5, but you have protobuf 5.26.1 which is incompatible.\n",
            "google-cloud-language 2.13.3 requires protobuf!=3.20.0,!=3.20.1,!=4.21.0,!=4.21.1,!=4.21.2,!=4.21.3,!=4.21.4,!=4.21.5,<5.0.0dev,>=3.19.5, but you have protobuf 5.26.1 which is incompatible.\n",
            "google-cloud-resource-manager 1.12.3 requires protobuf!=3.20.0,!=3.20.1,!=4.21.0,!=4.21.1,!=4.21.2,!=4.21.3,!=4.21.4,!=4.21.5,<5.0.0dev,>=3.19.5, but you have protobuf 5.26.1 which is incompatible.\n",
            "google-cloud-translate 3.11.3 requires protobuf!=3.20.0,!=3.20.1,!=4.21.0,!=4.21.1,!=4.21.2,!=4.21.3,!=4.21.4,!=4.21.5,<5.0.0dev,>=3.19.5, but you have protobuf 5.26.1 which is incompatible.\n",
            "googleapis-common-protos 1.63.0 requires protobuf!=3.20.0,!=3.20.1,!=4.21.1,!=4.21.2,!=4.21.3,!=4.21.4,!=4.21.5,<5.0.0.dev0,>=3.19.5, but you have protobuf 5.26.1 which is incompatible.\n",
            "grpc-google-iam-v1 0.13.0 requires protobuf!=3.20.0,!=3.20.1,!=4.21.1,!=4.21.2,!=4.21.3,!=4.21.4,!=4.21.5,<5.0.0dev,>=3.19.5, but you have protobuf 5.26.1 which is incompatible.\n",
            "proto-plus 1.23.0 requires protobuf<5.0.0dev,>=3.19.0, but you have protobuf 5.26.1 which is incompatible.\n",
            "tensorflow 2.15.0 requires protobuf!=4.21.0,!=4.21.1,!=4.21.2,!=4.21.3,!=4.21.4,!=4.21.5,<5.0.0dev,>=3.20.3, but you have protobuf 5.26.1 which is incompatible.\n",
            "tensorflow-metadata 1.15.0 requires protobuf<4.21,>=3.20.3; python_version < \"3.11\", but you have protobuf 5.26.1 which is incompatible.\u001b[0m\u001b[31m\n",
            "\u001b[0mSuccessfully installed numpy-1.26.4 opencv-python-4.9.0.80 protobuf-5.26.1\n",
            "Reading package lists... Done\n",
            "Building dependency tree... Done\n",
            "Reading state information... Done\n",
            "ocl-icd-opencl-dev is already the newest version (2.2.14-3).\n",
            "ocl-icd-opencl-dev set to manually installed.\n",
            "The following NEW packages will be installed:\n",
            "  opencl-headers\n",
            "0 upgraded, 1 newly installed, 0 to remove and 46 not upgraded.\n",
            "Need to get 1,754 B of archives.\n",
            "After this operation, 12.3 kB of additional disk space will be used.\n",
            "Get:1 http://archive.ubuntu.com/ubuntu jammy/universe amd64 opencl-headers all 3.0~2022.01.04-1 [1,754 B]\n",
            "Fetched 1,754 B in 0s (3,676 B/s)\n",
            "debconf: unable to initialize frontend: Dialog\n",
            "debconf: (No usable dialog-like program is installed, so the dialog based frontend cannot be used. at /usr/share/perl5/Debconf/FrontEnd/Dialog.pm line 78, <> line 1.)\n",
            "debconf: falling back to frontend: Readline\n",
            "debconf: unable to initialize frontend: Readline\n",
            "debconf: (This frontend requires a controlling tty.)\n",
            "debconf: falling back to frontend: Teletype\n",
            "dpkg-preconfigure: unable to re-open stdin: \n",
            "Selecting previously unselected package opencl-headers.\n",
            "(Reading database ... 123278 files and directories currently installed.)\n",
            "Preparing to unpack .../opencl-headers_3.0~2022.01.04-1_all.deb ...\n",
            "Unpacking opencl-headers (3.0~2022.01.04-1) ...\n",
            "Setting up opencl-headers (3.0~2022.01.04-1) ...\n",
            "Reading package lists... Done\n",
            "Building dependency tree... Done\n",
            "Reading state information... Done\n",
            "Suggested packages:\n",
            "  libviennacl-doc\n",
            "The following NEW packages will be installed:\n",
            "  libviennacl-dev\n",
            "0 upgraded, 1 newly installed, 0 to remove and 46 not upgraded.\n",
            "Need to get 370 kB of archives.\n",
            "After this operation, 5,024 kB of additional disk space will be used.\n",
            "Get:1 http://archive.ubuntu.com/ubuntu jammy/universe amd64 libviennacl-dev all 1.7.1+dfsg1-6 [370 kB]\n",
            "Fetched 370 kB in 2s (215 kB/s)\n",
            "debconf: unable to initialize frontend: Dialog\n",
            "debconf: (No usable dialog-like program is installed, so the dialog based frontend cannot be used. at /usr/share/perl5/Debconf/FrontEnd/Dialog.pm line 78, <> line 1.)\n",
            "debconf: falling back to frontend: Readline\n",
            "debconf: unable to initialize frontend: Readline\n",
            "debconf: (This frontend requires a controlling tty.)\n",
            "debconf: falling back to frontend: Teletype\n",
            "dpkg-preconfigure: unable to re-open stdin: \n",
            "Selecting previously unselected package libviennacl-dev.\n",
            "(Reading database ... 123281 files and directories currently installed.)\n",
            "Preparing to unpack .../libviennacl-dev_1.7.1+dfsg1-6_all.deb ...\n",
            "Unpacking libviennacl-dev (1.7.1+dfsg1-6) ...\n",
            "Setting up libviennacl-dev (1.7.1+dfsg1-6) ...\n"
          ]
        }
      ]
    },
    {
      "cell_type": "markdown",
      "source": [
        "**Openposeをクローンする目的**"
      ],
      "metadata": {
        "id": "BVYpo_A0ekZf"
      }
    },
    {
      "cell_type": "markdown",
      "source": [
        "\n",
        "Openposeのソースコードをローカル環境に取得し、Openposeをビルドおよび実行するため"
      ],
      "metadata": {
        "id": "W8E7eqKCfVlr"
      }
    },
    {
      "cell_type": "markdown",
      "source": [
        "->必要に応じてコードをカスタマイズしたり、特定のバージョンをチェックアウトできるようになる＝特定の機能を追加したりバグを修正したりできる"
      ],
      "metadata": {
        "id": "0uJpep4PfbS5"
      }
    },
    {
      "cell_type": "code",
      "metadata": {
        "id": "34-A_3704E8j",
        "colab": {
          "base_uri": "https://localhost:8080/"
        },
        "outputId": "11d4aaa7-2836-406c-93c4-7aa4c049e22d"
      },
      "source": [
        "# Clone Openpose  OpenposeのGitをクローンしている\n",
        "#! git clone  --depth 1 -b \"$ver_openpose\" https://github.com/CMU-Perceptual-Computing-Lab/openpose.git\n",
        "! git clone https://github.com/CMU-Perceptual-Computing-Lab/openpose.git\n",
        "! cd openpose && mkdir build && cd build"
      ],
      "execution_count": null,
      "outputs": [
        {
          "output_type": "stream",
          "name": "stdout",
          "text": [
            "Cloning into 'openpose'...\n",
            "remote: Enumerating objects: 16137, done.\u001b[K\n",
            "remote: Counting objects: 100% (53/53), done.\u001b[K\n",
            "remote: Compressing objects: 100% (40/40), done.\u001b[K\n",
            "remote: Total 16137 (delta 20), reused 41 (delta 12), pack-reused 16084\u001b[K\n",
            "Receiving objects: 100% (16137/16137), 84.47 MiB | 12.22 MiB/s, done.\n",
            "Resolving deltas: 100% (11298/11298), done.\n"
          ]
        }
      ]
    },
    {
      "cell_type": "code",
      "metadata": {
        "id": "8Td588n5PhY2"
      },
      "source": [
        "#%rm -r openpose/build\n",
        "#もしくはrm -r openpose/build"
      ],
      "execution_count": null,
      "outputs": []
    },
    {
      "cell_type": "code",
      "metadata": {
        "id": "0cIZ9-mh4JPL",
        "colab": {
          "base_uri": "https://localhost:8080/"
        },
        "outputId": "f1e4f180-8c61-4bc8-b845-54134b08850a"
      },
      "source": [
        "# https://github.com/CMU-Perceptual-Computing-Lab/openpose/blob/master/doc/installation.md#cmake-command-line-configuration-ubuntu-only\n",
        "# Scenario 1 - Caffe not installed and OpenCV installed using apt-get\n",
        "# Openposeのビルドを行う手順①Openposeのビルド設定：CMakeを実行してビルド設定\n",
        "! cd openpose/build && cmake -DBUILD_PYTHON=ON ..\n",
        "\n",
        "# If you want to download the COCO model as well, execute the following command. (Please change \"# ! cd\" part to \"! cd\".)\n",
        "# COCOモデルをダウンロードする際は以下の通り\n",
        "# ! cd openpose/build && cmake .. -D DOWNLOAD_BODY_COCO_MODEL=ON\n",
        "\n",
        "# If you want to download the MPI model as well, execute the following command.\n",
        "# MPIモデルのダウンロードする際は以下の通り\n",
        "# ! cd openpose/build && cmake .. -D DOWNLOAD_BODY_MPI_MODEL=ON"
      ],
      "execution_count": null,
      "outputs": [
        {
          "output_type": "stream",
          "name": "stdout",
          "text": [
            "\u001b[33mCMake Warning (dev) at CMakeLists.txt:19 (project):\n",
            "  cmake_minimum_required() should be called prior to this top-level project()\n",
            "  call.  Please see the cmake-commands(7) manual for usage documentation of\n",
            "  both commands.\n",
            "This warning is for project developers.  Use -Wno-dev to suppress it.\n",
            "\u001b[0m\n",
            "-- The C compiler identification is GNU 11.4.0\n",
            "-- The CXX compiler identification is GNU 11.4.0\n",
            "-- Detecting C compiler ABI info\n",
            "-- Detecting C compiler ABI info - done\n",
            "-- Check for working C compiler: /usr/bin/cc - skipped\n",
            "-- Detecting C compile features\n",
            "-- Detecting C compile features - done\n",
            "-- Detecting CXX compiler ABI info\n",
            "-- Detecting CXX compiler ABI info - done\n",
            "-- Check for working CXX compiler: /usr/bin/c++ - skipped\n",
            "-- Detecting CXX compile features\n",
            "-- Detecting CXX compile features - done\n",
            "\u001b[0mCMake Deprecation Warning at CMakeLists.txt:34 (cmake_minimum_required):\n",
            "  Compatibility with CMake < 3.5 will be removed from a future version of\n",
            "  CMake.\n",
            "\n",
            "  Update the VERSION argument <min> value or use a ...<max> suffix to tell\n",
            "  CMake that the project does not need compatibility with older versions.\n",
            "\n",
            "\u001b[0m\n",
            "-- GCC detected, adding compile flags\n",
            "-- GCC detected, adding compile flags\n",
            "\u001b[33mCMake Warning (dev) at CMakeLists.txt:214 (find_package):\n",
            "  Policy CMP0146 is not set: The FindCUDA module is removed.  Run \"cmake\n",
            "  --help-policy CMP0146\" for policy details.  Use the cmake_policy command to\n",
            "  set the policy and suppress this warning.\n",
            "\n",
            "This warning is for project developers.  Use -Wno-dev to suppress it.\n",
            "\u001b[0m\n",
            "-- Performing Test CMAKE_HAVE_LIBC_PTHREAD\n",
            "-- Performing Test CMAKE_HAVE_LIBC_PTHREAD - Success\n",
            "-- Found Threads: TRUE  \n",
            "-- Found CUDA: /usr/local/cuda (found version \"12.2\") \n",
            "-- Building with CUDA.\n",
            "\u001b[33mCMake Warning (dev) at CMakeLists.txt:353 (find_package):\n",
            "  Policy CMP0146 is not set: The FindCUDA module is removed.  Run \"cmake\n",
            "  --help-policy CMP0146\" for policy details.  Use the cmake_policy command to\n",
            "  set the policy and suppress this warning.\n",
            "\n",
            "This warning is for project developers.  Use -Wno-dev to suppress it.\n",
            "\u001b[0m\n",
            "\u001b[33mCMake Warning (dev) at cmake/Cuda.cmake:282 (find_package):\n",
            "  Policy CMP0146 is not set: The FindCUDA module is removed.  Run \"cmake\n",
            "  --help-policy CMP0146\" for policy details.  Use the cmake_policy command to\n",
            "  set the policy and suppress this warning.\n",
            "\n",
            "Call Stack (most recent call first):\n",
            "  CMakeLists.txt:424 (include)\n",
            "This warning is for project developers.  Use -Wno-dev to suppress it.\n",
            "\u001b[0m\n",
            "-- CUDA detected: 12.2\n",
            "-- Found cuDNN: ver. 8.9.6 found (include: /usr/include, library: /usr/lib/x86_64-linux-gnu/libcudnn.so)\n",
            "-- Added CUDA NVCC flags for: sm_75\n",
            "-- Found cuDNN: ver. 8.9.6 found (include: /usr/include, library: /usr/lib/x86_64-linux-gnu/libcudnn.so)\n",
            "-- Found GFlags: /usr/include  \n",
            "-- Found gflags  (include: /usr/include, library: /usr/lib/x86_64-linux-gnu/libgflags.so)\n",
            "-- Found Glog: /usr/include  \n",
            "-- Found glog    (include: /usr/include, library: /usr/lib/x86_64-linux-gnu/libglog.so)\n",
            "-- Found Protobuf: /usr/lib/x86_64-linux-gnu/libprotobuf.so (found version \"3.12.4\") \n",
            "-- Found OpenCV: /usr (found version \"4.5.4\") \n",
            "-- Caffe will be downloaded from source now. NOTE: This process might take several minutes depending\n",
            "        on your internet connection.\n",
            "Submodule '3rdparty/caffe' (https://github.com/CMU-Perceptual-Computing-Lab/caffe.git) registered for path '../3rdparty/caffe'\n",
            "Cloning into '/content/openpose/3rdparty/caffe'...\n",
            "Submodule path '../3rdparty/caffe': checked out 'b5ede488952e40861e84e51a9f9fd8fe2395cc8a'\n",
            "Previous HEAD position was b5ede488 Added TX2 JetPack3.3 support\n",
            "HEAD is now at 1807aada Added Ampere arch's (CUDA11)\n",
            "-- Caffe will be built from source now.\n",
            "-- Download the models.\n",
            "-- Downloading BODY_25 model...\n",
            "-- NOTE: This process might take several minutes depending on your internet connection.\n",
            "\u001b[31mCMake Error at cmake/Utils.cmake:8 (file):\n",
            "  file DOWNLOAD cannot compute hash on failed download\n",
            "\n",
            "    status: [7;\"Couldn't connect to server\"]\n",
            "Call Stack (most recent call first):\n",
            "  CMakeLists.txt:985 (download_model)\n",
            "\n",
            "\u001b[0m\n",
            "-- Not downloading body (COCO) model\n",
            "-- Not downloading body (MPI) model\n",
            "-- Downloading face model...\n",
            "-- NOTE: This process might take several minutes depending on your internet connection.\n",
            "\u001b[31mCMake Error at cmake/Utils.cmake:8 (file):\n",
            "  file DOWNLOAD cannot compute hash on failed download\n",
            "\n",
            "    status: [7;\"Couldn't connect to server\"]\n",
            "Call Stack (most recent call first):\n",
            "  CMakeLists.txt:991 (download_model)\n",
            "\n",
            "\u001b[0m\n",
            "-- Downloading hand model...\n",
            "-- NOTE: This process might take several minutes depending on your internet connection.\n",
            "\u001b[31mCMake Error at cmake/Utils.cmake:8 (file):\n",
            "  file DOWNLOAD cannot compute hash on failed download\n",
            "\n",
            "    status: [7;\"Couldn't connect to server\"]\n",
            "Call Stack (most recent call first):\n",
            "  CMakeLists.txt:993 (download_model)\n",
            "\n",
            "\u001b[0m\n",
            "-- Models Downloaded.\n",
            "-- Configuring incomplete, errors occurred!\n"
          ]
        }
      ]
    },
    {
      "cell_type": "code",
      "metadata": {
        "id": "APjFo_sg4reN",
        "colab": {
          "base_uri": "https://localhost:8080/"
        },
        "outputId": "5e7abe6b-d7ed-4011-b5b8-5143f3f5e63d"
      },
      "source": [
        "# Openpose Building   Openposeのビルドディレクトリに移動しmakeコマンドを実行しOpenposeのビルド\n",
        "! cd openpose/build && make -j`nproc`"
      ],
      "execution_count": null,
      "outputs": [
        {
          "output_type": "stream",
          "name": "stdout",
          "text": [
            "make: *** No targets specified and no makefile found.  Stop.\n"
          ]
        }
      ]
    },
    {
      "cell_type": "code",
      "metadata": {
        "id": "a10IyfajQ0bN",
        "colab": {
          "base_uri": "https://localhost:8080/"
        },
        "outputId": "feb6920d-7632-4226-9c52-b8c0be6aacb6"
      },
      "source": [
        "# Openpose Installing   make installコマンドでインストール\n",
        "! cd openpose/build && make install"
      ],
      "execution_count": null,
      "outputs": [
        {
          "output_type": "stream",
          "name": "stdout",
          "text": [
            "make: *** No rule to make target 'install'.  Stop.\n"
          ]
        }
      ]
    },
    {
      "cell_type": "code",
      "metadata": {
        "id": "PBomm9C4yqFY",
        "colab": {
          "base_uri": "https://localhost:8080/"
        },
        "outputId": "ba473817-7478-43b3-843c-144de5059477"
      },
      "source": [
        "# ! echo \"include /usr/local/lib\" >> /etc/ld.so.conf\n",
        "    # /etc/ld.so.confファイルに新しいライブラリパスを追加\n",
        "! grep -qxF \"include /usr/local/lib\" /etc/ld.so.conf || echo \"include /usr/local/lib\" | sudo tee -a /etc/ld.so.conf\n",
        "#\n",
        "! ldconfig    # ライブラリキャッシュを更新し、システムに新しいライブラリパスを認識させる"
      ],
      "execution_count": null,
      "outputs": [
        {
          "output_type": "stream",
          "name": "stdout",
          "text": [
            "include /usr/local/lib\n",
            "/sbin/ldconfig.real: /usr/local/lib/libtbb.so.12 is not a symbolic link\n",
            "\n",
            "/sbin/ldconfig.real: /usr/local/lib/libtbbbind_2_0.so.3 is not a symbolic link\n",
            "\n",
            "/sbin/ldconfig.real: /usr/local/lib/libtbbmalloc_proxy.so.2 is not a symbolic link\n",
            "\n",
            "/sbin/ldconfig.real: /usr/local/lib/libtbbbind.so.3 is not a symbolic link\n",
            "\n",
            "/sbin/ldconfig.real: /usr/local/lib/libtbbmalloc.so.2 is not a symbolic link\n",
            "\n",
            "/sbin/ldconfig.real: /usr/local/lib/libtbbbind_2_5.so.3 is not a symbolic link\n",
            "\n"
          ]
        }
      ]
    },
    {
      "cell_type": "code",
      "metadata": {
        "id": "AgSmcSfKfQCr",
        "colab": {
          "base_uri": "https://localhost:8080/"
        },
        "outputId": "64f3e0d1-80a1-4349-f7a8-0e22d2889a8c"
      },
      "source": [
        "%ls /usr/local/python"
      ],
      "execution_count": null,
      "outputs": [
        {
          "output_type": "stream",
          "name": "stdout",
          "text": [
            "ls: cannot access '/usr/local/python': No such file or directory\n"
          ]
        }
      ]
    },
    {
      "cell_type": "code",
      "metadata": {
        "id": "ED-JZ-tJ4uOL",
        "colab": {
          "base_uri": "https://localhost:8080/"
        },
        "outputId": "5df3d18e-84b8-413d-ff22-b1ffe09b0744"
      },
      "source": [
        "# Run and check the sample\n",
        "# The output analysis result is placed under \"openpose/output\" from the folder icon on the left menu of the Colab screen.\n",
        "! cd openpose && mkdir output && ./build/examples/openpose/openpose.bin --video examples/media/video.avi --display 0  --write_video ./output/openpose.avi"
      ],
      "execution_count": null,
      "outputs": [
        {
          "output_type": "stream",
          "name": "stdout",
          "text": [
            "/bin/bash: line 1: ./build/examples/openpose/openpose.bin: No such file or directory\n"
          ]
        }
      ]
    },
    {
      "cell_type": "markdown",
      "metadata": {
        "id": "8QSThD6-5sc8"
      },
      "source": [
        "## Detect poses on a test video\n",
        "\n",
        "We are going to detect poses on the following youtube video:"
      ]
    },
    {
      "cell_type": "code",
      "metadata": {
        "id": "3VzukrqfLUFB",
        "colab": {
          "base_uri": "https://localhost:8080/"
        },
        "outputId": "ac57b31f-4a70-4e9a-9fd0-84ae4de4f21a"
      },
      "source": [
        "!pip install youtube-dl"
      ],
      "execution_count": null,
      "outputs": [
        {
          "output_type": "stream",
          "name": "stdout",
          "text": [
            "Collecting youtube-dl\n",
            "  Downloading youtube_dl-2021.12.17-py2.py3-none-any.whl (1.9 MB)\n",
            "\u001b[2K     \u001b[90m━━━━━━━━━━━━━━━━━━━━━━━━━━━━━━━━━━━━━━━━\u001b[0m \u001b[32m1.9/1.9 MB\u001b[0m \u001b[31m9.9 MB/s\u001b[0m eta \u001b[36m0:00:00\u001b[0m\n",
            "\u001b[?25hInstalling collected packages: youtube-dl\n",
            "Successfully installed youtube-dl-2021.12.17\n"
          ]
        }
      ]
    },
    {
      "cell_type": "code",
      "metadata": {
        "id": "ThBKmN2I41Bo",
        "colab": {
          "base_uri": "https://localhost:8080/",
          "height": 321
        },
        "outputId": "cbd80cc4-d046-42d4-d3e4-4482f9f10780"
      },
      "source": [
        "from IPython.display import YouTubeVideo\n",
        "\n",
        "YOUTUBE_ID = 'RXABo9hm8B8'\n",
        "\n",
        "YouTubeVideo(YOUTUBE_ID)"
      ],
      "execution_count": null,
      "outputs": [
        {
          "output_type": "execute_result",
          "data": {
            "text/plain": [
              "<IPython.lib.display.YouTubeVideo at 0x7f01481f0400>"
            ],
            "text/html": [
              "\n",
              "        <iframe\n",
              "            width=\"400\"\n",
              "            height=\"300\"\n",
              "            src=\"https://www.youtube.com/embed/RXABo9hm8B8\"\n",
              "            frameborder=\"0\"\n",
              "            allowfullscreen\n",
              "            \n",
              "        ></iframe>\n",
              "        "
            ],
            "image/jpeg": "[encoded data removed]"
          },
          "metadata": {},
          "execution_count": 19
        }
      ]
    },
    {
      "cell_type": "markdown",
      "metadata": {
        "id": "pdKtga485nhv"
      },
      "source": [
        "Download the above youtube video, cut the first 5 seconds and do the pose detection on that 5 seconds:"
      ]
    },
    {
      "cell_type": "code",
      "metadata": {
        "id": "9CAPrsut5fDw",
        "colab": {
          "base_uri": "https://localhost:8080/"
        },
        "outputId": "6548a688-0aef-4ab8-c4a5-ae4af2f90dc7"
      },
      "source": [
        "!rm -rf youtube.mp4\n",
        "# download the youtube with the given ID\n",
        "!youtube-dl -f 'bestvideo[ext=mp4]' --output \"youtube.%(ext)s\" https://www.youtube.com/watch?v=$YOUTUBE_ID\n",
        "# cut the first 5 seconds\n",
        "!ffmpeg -y -loglevel info -i youtube.mp4 -t 5 video.mp4\n",
        "# detect poses on the these 5 seconds\n",
        "!rm openpose.avi\n",
        "!cd openpose && ./build/examples/openpose/openpose.bin --video ../video.mp4 --write_json ./output/ --display 0  --write_video ../openpose.avi\n",
        "# convert the result into MP4\n",
        "!ffmpeg -y -loglevel info -i openpose.avi output.mp4"
      ],
      "execution_count": null,
      "outputs": [
        {
          "output_type": "stream",
          "name": "stdout",
          "text": [
            "[youtube] RXABo9hm8B8: Downloading webpage\n",
            "\u001b[0;31mERROR:\u001b[0m Unable to extract \u001b[0;34muploader id\u001b[0m; please report this issue on https://yt-dl.org/bug . Make sure you are using the latest version; see  https://yt-dl.org/update  on how to update. Be sure to call youtube-dl with the --verbose flag and include its complete output.\n",
            "ffmpeg version 4.4.2-0ubuntu0.22.04.1 Copyright (c) 2000-2021 the FFmpeg developers\n",
            "  built with gcc 11 (Ubuntu 11.2.0-19ubuntu1)\n",
            "  configuration: --prefix=/usr --extra-version=0ubuntu0.22.04.1 --toolchain=hardened --libdir=/usr/lib/x86_64-linux-gnu --incdir=/usr/include/x86_64-linux-gnu --arch=amd64 --enable-gpl --disable-stripping --enable-gnutls --enable-ladspa --enable-libaom --enable-libass --enable-libbluray --enable-libbs2b --enable-libcaca --enable-libcdio --enable-libcodec2 --enable-libdav1d --enable-libflite --enable-libfontconfig --enable-libfreetype --enable-libfribidi --enable-libgme --enable-libgsm --enable-libjack --enable-libmp3lame --enable-libmysofa --enable-libopenjpeg --enable-libopenmpt --enable-libopus --enable-libpulse --enable-librabbitmq --enable-librubberband --enable-libshine --enable-libsnappy --enable-libsoxr --enable-libspeex --enable-libsrt --enable-libssh --enable-libtheora --enable-libtwolame --enable-libvidstab --enable-libvorbis --enable-libvpx --enable-libwebp --enable-libx265 --enable-libxml2 --enable-libxvid --enable-libzimg --enable-libzmq --enable-libzvbi --enable-lv2 --enable-omx --enable-openal --enable-opencl --enable-opengl --enable-sdl2 --enable-pocketsphinx --enable-librsvg --enable-libmfx --enable-libdc1394 --enable-libdrm --enable-libiec61883 --enable-chromaprint --enable-frei0r --enable-libx264 --enable-shared\n",
            "  libavutil      56. 70.100 / 56. 70.100\n",
            "  libavcodec     58.134.100 / 58.134.100\n",
            "  libavformat    58. 76.100 / 58. 76.100\n",
            "  libavdevice    58. 13.100 / 58. 13.100\n",
            "  libavfilter     7.110.100 /  7.110.100\n",
            "  libswscale      5.  9.100 /  5.  9.100\n",
            "  libswresample   3.  9.100 /  3.  9.100\n",
            "  libpostproc    55.  9.100 / 55.  9.100\n",
            "\u001b[1;31myoutube.mp4: No such file or directory\n",
            "\u001b[0mrm: cannot remove 'openpose.avi': No such file or directory\n",
            "/bin/bash: line 1: ./build/examples/openpose/openpose.bin: No such file or directory\n",
            "ffmpeg version 4.4.2-0ubuntu0.22.04.1 Copyright (c) 2000-2021 the FFmpeg developers\n",
            "  built with gcc 11 (Ubuntu 11.2.0-19ubuntu1)\n",
            "  configuration: --prefix=/usr --extra-version=0ubuntu0.22.04.1 --toolchain=hardened --libdir=/usr/lib/x86_64-linux-gnu --incdir=/usr/include/x86_64-linux-gnu --arch=amd64 --enable-gpl --disable-stripping --enable-gnutls --enable-ladspa --enable-libaom --enable-libass --enable-libbluray --enable-libbs2b --enable-libcaca --enable-libcdio --enable-libcodec2 --enable-libdav1d --enable-libflite --enable-libfontconfig --enable-libfreetype --enable-libfribidi --enable-libgme --enable-libgsm --enable-libjack --enable-libmp3lame --enable-libmysofa --enable-libopenjpeg --enable-libopenmpt --enable-libopus --enable-libpulse --enable-librabbitmq --enable-librubberband --enable-libshine --enable-libsnappy --enable-libsoxr --enable-libspeex --enable-libsrt --enable-libssh --enable-libtheora --enable-libtwolame --enable-libvidstab --enable-libvorbis --enable-libvpx --enable-libwebp --enable-libx265 --enable-libxml2 --enable-libxvid --enable-libzimg --enable-libzmq --enable-libzvbi --enable-lv2 --enable-omx --enable-openal --enable-opencl --enable-opengl --enable-sdl2 --enable-pocketsphinx --enable-librsvg --enable-libmfx --enable-libdc1394 --enable-libdrm --enable-libiec61883 --enable-chromaprint --enable-frei0r --enable-libx264 --enable-shared\n",
            "  libavutil      56. 70.100 / 56. 70.100\n",
            "  libavcodec     58.134.100 / 58.134.100\n",
            "  libavformat    58. 76.100 / 58. 76.100\n",
            "  libavdevice    58. 13.100 / 58. 13.100\n",
            "  libavfilter     7.110.100 /  7.110.100\n",
            "  libswscale      5.  9.100 /  5.  9.100\n",
            "  libswresample   3.  9.100 /  3.  9.100\n",
            "  libpostproc    55.  9.100 / 55.  9.100\n",
            "\u001b[1;31mopenpose.avi: No such file or directory\n",
            "\u001b[0m"
          ]
        }
      ]
    },
    {
      "cell_type": "markdown",
      "metadata": {
        "id": "8ZZjSWwh5j_W"
      },
      "source": [
        "Finally, visualize the result:"
      ]
    },
    {
      "cell_type": "code",
      "metadata": {
        "id": "DlWbXY-75hGG",
        "colab": {
          "base_uri": "https://localhost:8080/",
          "height": 297
        },
        "outputId": "455540f4-ea8f-4d78-bdf1-723ded44a84e"
      },
      "source": [
        "def show_local_mp4_video(file_name, width=640, height=480):\n",
        "  import io\n",
        "  import base64\n",
        "  from IPython.display import HTML\n",
        "  video_encoded = base64.b64encode(io.open(file_name, 'rb').read())\n",
        "  return HTML(data='''<video width=\"{0}\" height=\"{1}\" alt=\"test\" controls>\n",
        "                        <source src=\"data:video/mp4;base64,{2}\" type=\"video/mp4\" />\n",
        "                      </video>'''.format(width, height, video_encoded.decode('ascii')))\n",
        "\n",
        "show_local_mp4_video('output.mp4', width=960, height=720)"
      ],
      "execution_count": null,
      "outputs": [
        {
          "output_type": "error",
          "ename": "FileNotFoundError",
          "evalue": "[Errno 2] No such file or directory: 'output.mp4'",
          "traceback": [
            "\u001b[0;31m---------------------------------------------------------------------------\u001b[0m",
            "\u001b[0;31mFileNotFoundError\u001b[0m                         Traceback (most recent call last)",
            "\u001b[0;32m<ipython-input-21-333534b1a513>\u001b[0m in \u001b[0;36m<cell line: 10>\u001b[0;34m()\u001b[0m\n\u001b[1;32m      8\u001b[0m                       </video>'''.format(width, height, video_encoded.decode('ascii')))\n\u001b[1;32m      9\u001b[0m \u001b[0;34m\u001b[0m\u001b[0m\n\u001b[0;32m---> 10\u001b[0;31m \u001b[0mshow_local_mp4_video\u001b[0m\u001b[0;34m(\u001b[0m\u001b[0;34m'output.mp4'\u001b[0m\u001b[0;34m,\u001b[0m \u001b[0mwidth\u001b[0m\u001b[0;34m=\u001b[0m\u001b[0;36m960\u001b[0m\u001b[0;34m,\u001b[0m \u001b[0mheight\u001b[0m\u001b[0;34m=\u001b[0m\u001b[0;36m720\u001b[0m\u001b[0;34m)\u001b[0m\u001b[0;34m\u001b[0m\u001b[0;34m\u001b[0m\u001b[0m\n\u001b[0m",
            "\u001b[0;32m<ipython-input-21-333534b1a513>\u001b[0m in \u001b[0;36mshow_local_mp4_video\u001b[0;34m(file_name, width, height)\u001b[0m\n\u001b[1;32m      3\u001b[0m   \u001b[0;32mimport\u001b[0m \u001b[0mbase64\u001b[0m\u001b[0;34m\u001b[0m\u001b[0;34m\u001b[0m\u001b[0m\n\u001b[1;32m      4\u001b[0m   \u001b[0;32mfrom\u001b[0m \u001b[0mIPython\u001b[0m\u001b[0;34m.\u001b[0m\u001b[0mdisplay\u001b[0m \u001b[0;32mimport\u001b[0m \u001b[0mHTML\u001b[0m\u001b[0;34m\u001b[0m\u001b[0;34m\u001b[0m\u001b[0m\n\u001b[0;32m----> 5\u001b[0;31m   \u001b[0mvideo_encoded\u001b[0m \u001b[0;34m=\u001b[0m \u001b[0mbase64\u001b[0m\u001b[0;34m.\u001b[0m\u001b[0mb64encode\u001b[0m\u001b[0;34m(\u001b[0m\u001b[0mio\u001b[0m\u001b[0;34m.\u001b[0m\u001b[0mopen\u001b[0m\u001b[0;34m(\u001b[0m\u001b[0mfile_name\u001b[0m\u001b[0;34m,\u001b[0m \u001b[0;34m'rb'\u001b[0m\u001b[0;34m)\u001b[0m\u001b[0;34m.\u001b[0m\u001b[0mread\u001b[0m\u001b[0;34m(\u001b[0m\u001b[0;34m)\u001b[0m\u001b[0;34m)\u001b[0m\u001b[0;34m\u001b[0m\u001b[0;34m\u001b[0m\u001b[0m\n\u001b[0m\u001b[1;32m      6\u001b[0m   return HTML(data='''<video width=\"{0}\" height=\"{1}\" alt=\"test\" controls>\n\u001b[1;32m      7\u001b[0m                         \u001b[0;34m<\u001b[0m\u001b[0msource\u001b[0m \u001b[0msrc\u001b[0m\u001b[0;34m=\u001b[0m\u001b[0;34m\"data:video/mp4;base64,{2}\"\u001b[0m \u001b[0mtype\u001b[0m\u001b[0;34m=\u001b[0m\u001b[0;34m\"video/mp4\"\u001b[0m \u001b[0;34m/\u001b[0m\u001b[0;34m>\u001b[0m\u001b[0;34m\u001b[0m\u001b[0;34m\u001b[0m\u001b[0m\n",
            "\u001b[0;31mFileNotFoundError\u001b[0m: [Errno 2] No such file or directory: 'output.mp4'"
          ]
        }
      ]
    },
    {
      "cell_type": "markdown",
      "metadata": {
        "id": "_E2uPWbn7mUf"
      },
      "source": [
        "# <img class=\"emoji\" alt=\"basketabll\" height=\"20\" width=\"20\" src=\"https://github.githubassets.com/images/icons/emoji/unicode/1f3c0.png\"> Analyze basketball shots and shooting pose with machine learning!"
      ]
    },
    {
      "cell_type": "markdown",
      "metadata": {
        "id": "bQjd-0988uVt"
      },
      "source": [
        "## Get a copy\n",
        "Get a copy of this project by simply running the git clone command."
      ]
    },
    {
      "cell_type": "code",
      "metadata": {
        "id": "RNNBUmCDfXeo"
      },
      "source": [
        "# Original repository\n",
        "#! git clone https://github.com/chonyy/AI-basketball-analysis.git\n",
        "\n",
        "# Modified version\n",
        "! git clone https://github.com/hardik0/AI-basketball-analysis-on-google-colab\n",
        "%cd AI-basketball-analysis-on-google-colab"
      ],
      "execution_count": null,
      "outputs": []
    },
    {
      "cell_type": "markdown",
      "metadata": {
        "id": "xec4W35f828n"
      },
      "source": [
        "## Prerequisites\n",
        "Before running the project, we have to install all the dependencies from requirements.txt"
      ]
    },
    {
      "cell_type": "code",
      "metadata": {
        "id": "u8sfhGUKfdA8"
      },
      "source": [
        "! pip install -r colab_requirements.txt"
      ],
      "execution_count": null,
      "outputs": []
    },
    {
      "cell_type": "markdown",
      "metadata": {
        "id": "9_dZivHKMpTb"
      },
      "source": [
        "You must restart the runtime"
      ]
    },
    {
      "cell_type": "code",
      "metadata": {
        "id": "xz_TJD1MgEWR"
      },
      "source": [
        "%cd AI-basketball-analysis-on-google-colab"
      ],
      "execution_count": null,
      "outputs": []
    },
    {
      "cell_type": "markdown",
      "metadata": {
        "id": "pXE9Y0u3_CiJ"
      },
      "source": [
        "## Hosting"
      ]
    },
    {
      "cell_type": "code",
      "metadata": {
        "id": "NVLun-hws19m"
      },
      "source": [
        "# Download ngrok for tunneling.\n",
        "!if [ ! -f ./ngrok ]; then \\\n",
        " wget https://bin.equinox.io/c/4VmDzA7iaHb/ngrok-stable-linux-amd64.zip; \\\n",
        " unzip -o ngrok-stable-linux-amd64.zip; \\\n",
        " fi"
      ],
      "execution_count": null,
      "outputs": []
    },
    {
      "cell_type": "code",
      "metadata": {
        "id": "7fLY0iocs3-l"
      },
      "source": [
        "# Then start a mini web server.\n",
        "port = 5000\n",
        "!pkill ngrok\n",
        "!kill $(ps x | grep -v grep | grep http.server | awk '{print $1}') 2>/dev/null\n",
        "\n",
        "get_ipython().system_raw(\n",
        "    'python app.py && python3 -m http.server {} &'\n",
        "    .format(port)\n",
        ")\n",
        "\n",
        "# And, forward the port using ngrok.\n",
        "get_ipython().system_raw('./ngrok http {} &'.format(port))"
      ],
      "execution_count": null,
      "outputs": []
    },
    {
      "cell_type": "markdown",
      "metadata": {
        "id": "u77y4Iu-tRkp"
      },
      "source": [
        "**Port forwarding**\n",
        "\n",
        "Via a `ngrok` tunnel from the local machine to the internet."
      ]
    },
    {
      "cell_type": "code",
      "metadata": {
        "id": "hydof65utmI7"
      },
      "source": [
        "# Get the public address from localhost:4040 (ngrok's web interface).\n",
        "import time, urllib, json\n",
        "time.sleep(1)  # Give ngrok time to startup.\n",
        "ngrok_data = json.load(\n",
        "    urllib.request.urlopen('http://localhost:4040/api/tunnels'))\n",
        "ngrok_data['tunnels'][0]['public_url']"
      ],
      "execution_count": null,
      "outputs": []
    },
    {
      "cell_type": "code",
      "metadata": {
        "id": "eCOTN5wSvTns"
      },
      "source": [
        "# You can connect to this external address using your mobile phone!\n",
        "!pip install -q qrcode\n",
        "import qrcode\n",
        "qrcode.make(ngrok_data['tunnels'][0]['public_url'])"
      ],
      "execution_count": null,
      "outputs": []
    },
    {
      "cell_type": "markdown",
      "metadata": {
        "id": "YAVjATxFt9Dy"
      },
      "source": [
        "Last, get the project hosted on google colab with a single command.\n",
        "\n",
        "To restart Server/Flask you may click Menu: **Runtime->Restart runtime**\n",
        "\n",
        "**Note:** After restart you can start with [here](#scrollTo=xz_TJD1MgEWR)"
      ]
    },
    {
      "cell_type": "code",
      "metadata": {
        "id": "InlgjFxzcJOK"
      },
      "source": [
        "# First run this cell then open above link\n",
        "!python app.py"
      ],
      "execution_count": null,
      "outputs": []
    },
    {
      "cell_type": "markdown",
      "metadata": {
        "id": "aKZQoTiQYRMP"
      },
      "source": [
        "Or you can run below cell"
      ]
    },
    {
      "cell_type": "code",
      "metadata": {
        "id": "r5Cpveg4VYuy"
      },
      "source": [
        "import os\n",
        "import sys\n",
        "import cv2\n",
        "\n",
        "from flask import Flask, render_template, Response,  request, session, redirect, url_for, send_from_directory, flash, jsonify, abort\n",
        "from werkzeug.utils import secure_filename\n",
        "from PIL import Image\n",
        "\n",
        "\n",
        "from src.config import shooting_result\n",
        "from src.app_helper import getVideoStream, get_image, detectionAPI\n",
        "\n",
        "app = Flask(__name__)\n",
        "\n",
        "UPLOAD_FOLDER = './static/uploads'\n",
        "app.config['UPLOAD_FOLDER'] = UPLOAD_FOLDER\n",
        "#useless key, in order to use session\n",
        "app.secret_key = \"super secret key\"\n",
        "\n",
        "@app.route(\"/\")\n",
        "def index():\n",
        "    return render_template(\"index.html\")\n",
        "\n",
        "@app.route('/detection_json', methods=['GET', 'POST'])\n",
        "def detection_json():\n",
        "    if request.method == 'POST':\n",
        "        response = []\n",
        "        f = request.files['image']\n",
        "        # create a secure filename\n",
        "        filename = secure_filename(f.filename)\n",
        "        print(\"filename\", filename)\n",
        "        # save file to /static/uploads\n",
        "        filepath = os.path.join(app.config['UPLOAD_FOLDER'], filename)\n",
        "        print(\"filepath\", filepath)\n",
        "        f.save(filepath)\n",
        "        detectionAPI(response, filepath)\n",
        "        print(response)\n",
        "        try:\n",
        "            return jsonify(response), 200\n",
        "        except FileNotFoundError:\n",
        "            abort(404)\n",
        "\n",
        "\n",
        "@app.route('/sample_detection', methods=['GET', 'POST'])\n",
        "def upload_sample_image():\n",
        "    if request.method == 'POST':\n",
        "        response = []\n",
        "        filename = \"sample_image.jpg\"\n",
        "        print(\"filename\", filename)\n",
        "        filepath = \"./static/uploads/sample_image.jpg\"\n",
        "        print(\"filepath\", filepath)\n",
        "        get_image(filepath, filename, response)\n",
        "        return render_template(\"shot_detection.html\", display_detection=filename, fname=filename, response=response)\n",
        "\n",
        "@app.route('/basketball_detection', methods=['GET', 'POST'])\n",
        "def upload_image():\n",
        "    if request.method == 'POST':\n",
        "        response = []\n",
        "        f = request.files['image']\n",
        "        # create a secure filename\n",
        "        filename = secure_filename(f.filename)\n",
        "        print(\"filename\", filename)\n",
        "        # save file to /static/uploads\n",
        "        filepath = os.path.join(app.config['UPLOAD_FOLDER'], filename)\n",
        "        print(\"filepath\", filepath)\n",
        "        f.save(filepath)\n",
        "        get_image(filepath, filename, response)\n",
        "        return render_template(\"shot_detection.html\", display_detection=filename, fname=filename, response=response)\n",
        "\n",
        "@app.route('/sample_analysis', methods=['GET', 'POST'])\n",
        "def upload_video():\n",
        "    global shooting_result\n",
        "    shooting_result['attempts'] = 0\n",
        "    shooting_result['made'] = 0\n",
        "    shooting_result['miss'] = 0\n",
        "    if (os.path.exists(\"./static/detections/trajectory_fitting.jpg\")):\n",
        "        os.remove(\"./static/detections/trajectory_fitting.jpg\")\n",
        "    if request.method == 'POST':\n",
        "        filename = \"sample_video.mp4\"\n",
        "        print(\"filename\", filename)\n",
        "        filepath = \"./static/uploads/sample_video.mp4\"\n",
        "        print(\"filepath\", filepath)\n",
        "        session['video_path'] = filepath\n",
        "        return render_template(\"shooting_analysis.html\")\n",
        "\n",
        "@app.route('/shooting_analysis', methods=['GET', 'POST'])\n",
        "def upload_sample_video():\n",
        "    global shooting_result\n",
        "    shooting_result['attempts'] = 0\n",
        "    shooting_result['made'] = 0\n",
        "    shooting_result['miss'] = 0\n",
        "    if (os.path.exists(\"./static/detections/trajectory_fitting.jpg\")):\n",
        "        os.remove(\"./static/detections/trajectory_fitting.jpg\")\n",
        "    if request.method == 'POST':\n",
        "        f = request.files['video']\n",
        "        # create a secure filename\n",
        "        filename = secure_filename(f.filename)\n",
        "        print(\"filename\", filename)\n",
        "        # save file to /static/uploads\n",
        "        filepath = os.path.join(app.config['UPLOAD_FOLDER'], filename)\n",
        "        print(\"filepath\", filepath)\n",
        "        f.save(filepath)\n",
        "        session['video_path'] = filepath\n",
        "        return render_template(\"shooting_analysis.html\")\n",
        "\n",
        "@app.route('/video_feed')\n",
        "def video_feed():\n",
        "    video_path = session.get('video_path', None)\n",
        "    stream = getVideoStream(video_path)\n",
        "    return Response(stream,\n",
        "                    mimetype='multipart/x-mixed-replace; boundary=frame')\n",
        "\n",
        "@app.route(\"/result\", methods=['GET', 'POST'])\n",
        "def result():\n",
        "    return render_template(\"result.html\", shooting_result=shooting_result)\n",
        "\n",
        "#disable caching\n",
        "@app.after_request\n",
        "def after_request(response):\n",
        "    response.headers[\"Cache-Control\"] = \"no-cache, no-store, must-revalidate, public, max-age=0\"\n",
        "    response.headers[\"Expires\"] = 0\n",
        "    response.headers[\"Pragma\"] = \"no-cache\"\n",
        "    return response\n",
        "\n",
        "if __name__ == '__main__':\n",
        "    app.run(debug=True, use_reloader=True)"
      ],
      "execution_count": null,
      "outputs": []
    }
  ]
}